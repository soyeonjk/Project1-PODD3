{
 "cells": [
  {
   "cell_type": "code",
   "execution_count": 100,
   "metadata": {},
   "outputs": [
    {
     "output_type": "execute_result",
     "data": {
      "text/plain": [
       "                Player Club Position  Games Played  GS  Minutes  Shots   SV  \\\n",
       "0            Mark Dodd  DAL       GK            31  31     2776    235  160   \n",
       "1           Tony Meola  MET       GK            29  29     2610    188  142   \n",
       "2       Mark Dougherty  TB        GK            28  28     2520    186  123   \n",
       "3         Jorge Campos  LA        GK            24  24     2160    133  100   \n",
       "4       Garth Lagerwey  KC        GK            23  22     1959    133   83   \n",
       "...                ...  ...      ...           ...  ..      ...    ...  ...   \n",
       "2001   Adrian Zendejas  NaN       GK             0   0        0      0    0   \n",
       "2002   Mason Stajduhar  NaN       GK             0   0        0      0    0   \n",
       "2003       Brady Scott  NaN       GK             0   0        0      0    0   \n",
       "2004  Kendall McIntosh  NaN       GK             0   0        0      0    0   \n",
       "2005      Matt Bersano  NaN       GK             0   0        0      0    0   \n",
       "\n",
       "      Goals Against  Goals Against Average   PKG/A  Won  Loss  Tie  ShO  \\\n",
       "0                45                   1.45   5-May   17    14    0    6   \n",
       "1                38                   1.31   4-Mar   14    15    0    9   \n",
       "2                47                   1.68  10-Sep   17    11    0    3   \n",
       "3                27                   1.13     0/1   13     8    0    4   \n",
       "4                38                   1.73   2-Feb   12    10    0    3   \n",
       "...             ...                    ...     ...  ...   ...  ...  ...   \n",
       "2001              0                   0.00     0/0    0     0    0    0   \n",
       "2002              0                   0.00     0/0    0     0    0    0   \n",
       "2003              0                   0.00     0/0    0     0    0    0   \n",
       "2004              0                   0.00     0/0    0     0    0    0   \n",
       "2005              0                   0.00     0/0    0     0    0    0   \n",
       "\n",
       "      Winning %  Save %  Year Season  \n",
       "0          54.8    68.1  1996    reg  \n",
       "1          48.3    75.5  1996    reg  \n",
       "2          60.7    66.1  1996    reg  \n",
       "3          54.2    75.2  1996    reg  \n",
       "4          52.2    62.4  1996    reg  \n",
       "...         ...     ...   ...    ...  \n",
       "2001        0.0     0.0  2020   post  \n",
       "2002        0.0     0.0  2020   post  \n",
       "2003        0.0     0.0  2020   post  \n",
       "2004        0.0     0.0  2020   post  \n",
       "2005        0.0     0.0  2020   post  \n",
       "\n",
       "[2006 rows x 19 columns]"
      ],
      "text/html": "<div>\n<style scoped>\n    .dataframe tbody tr th:only-of-type {\n        vertical-align: middle;\n    }\n\n    .dataframe tbody tr th {\n        vertical-align: top;\n    }\n\n    .dataframe thead th {\n        text-align: right;\n    }\n</style>\n<table border=\"1\" class=\"dataframe\">\n  <thead>\n    <tr style=\"text-align: right;\">\n      <th></th>\n      <th>Player</th>\n      <th>Club</th>\n      <th>Position</th>\n      <th>Games Played</th>\n      <th>GS</th>\n      <th>Minutes</th>\n      <th>Shots</th>\n      <th>SV</th>\n      <th>Goals Against</th>\n      <th>Goals Against Average</th>\n      <th>PKG/A</th>\n      <th>Won</th>\n      <th>Loss</th>\n      <th>Tie</th>\n      <th>ShO</th>\n      <th>Winning %</th>\n      <th>Save %</th>\n      <th>Year</th>\n      <th>Season</th>\n    </tr>\n  </thead>\n  <tbody>\n    <tr>\n      <th>0</th>\n      <td>Mark Dodd</td>\n      <td>DAL</td>\n      <td>GK</td>\n      <td>31</td>\n      <td>31</td>\n      <td>2776</td>\n      <td>235</td>\n      <td>160</td>\n      <td>45</td>\n      <td>1.45</td>\n      <td>5-May</td>\n      <td>17</td>\n      <td>14</td>\n      <td>0</td>\n      <td>6</td>\n      <td>54.8</td>\n      <td>68.1</td>\n      <td>1996</td>\n      <td>reg</td>\n    </tr>\n    <tr>\n      <th>1</th>\n      <td>Tony Meola</td>\n      <td>MET</td>\n      <td>GK</td>\n      <td>29</td>\n      <td>29</td>\n      <td>2610</td>\n      <td>188</td>\n      <td>142</td>\n      <td>38</td>\n      <td>1.31</td>\n      <td>4-Mar</td>\n      <td>14</td>\n      <td>15</td>\n      <td>0</td>\n      <td>9</td>\n      <td>48.3</td>\n      <td>75.5</td>\n      <td>1996</td>\n      <td>reg</td>\n    </tr>\n    <tr>\n      <th>2</th>\n      <td>Mark Dougherty</td>\n      <td>TB</td>\n      <td>GK</td>\n      <td>28</td>\n      <td>28</td>\n      <td>2520</td>\n      <td>186</td>\n      <td>123</td>\n      <td>47</td>\n      <td>1.68</td>\n      <td>10-Sep</td>\n      <td>17</td>\n      <td>11</td>\n      <td>0</td>\n      <td>3</td>\n      <td>60.7</td>\n      <td>66.1</td>\n      <td>1996</td>\n      <td>reg</td>\n    </tr>\n    <tr>\n      <th>3</th>\n      <td>Jorge Campos</td>\n      <td>LA</td>\n      <td>GK</td>\n      <td>24</td>\n      <td>24</td>\n      <td>2160</td>\n      <td>133</td>\n      <td>100</td>\n      <td>27</td>\n      <td>1.13</td>\n      <td>0/1</td>\n      <td>13</td>\n      <td>8</td>\n      <td>0</td>\n      <td>4</td>\n      <td>54.2</td>\n      <td>75.2</td>\n      <td>1996</td>\n      <td>reg</td>\n    </tr>\n    <tr>\n      <th>4</th>\n      <td>Garth Lagerwey</td>\n      <td>KC</td>\n      <td>GK</td>\n      <td>23</td>\n      <td>22</td>\n      <td>1959</td>\n      <td>133</td>\n      <td>83</td>\n      <td>38</td>\n      <td>1.73</td>\n      <td>2-Feb</td>\n      <td>12</td>\n      <td>10</td>\n      <td>0</td>\n      <td>3</td>\n      <td>52.2</td>\n      <td>62.4</td>\n      <td>1996</td>\n      <td>reg</td>\n    </tr>\n    <tr>\n      <th>...</th>\n      <td>...</td>\n      <td>...</td>\n      <td>...</td>\n      <td>...</td>\n      <td>...</td>\n      <td>...</td>\n      <td>...</td>\n      <td>...</td>\n      <td>...</td>\n      <td>...</td>\n      <td>...</td>\n      <td>...</td>\n      <td>...</td>\n      <td>...</td>\n      <td>...</td>\n      <td>...</td>\n      <td>...</td>\n      <td>...</td>\n      <td>...</td>\n    </tr>\n    <tr>\n      <th>2001</th>\n      <td>Adrian Zendejas</td>\n      <td>NaN</td>\n      <td>GK</td>\n      <td>0</td>\n      <td>0</td>\n      <td>0</td>\n      <td>0</td>\n      <td>0</td>\n      <td>0</td>\n      <td>0.00</td>\n      <td>0/0</td>\n      <td>0</td>\n      <td>0</td>\n      <td>0</td>\n      <td>0</td>\n      <td>0.0</td>\n      <td>0.0</td>\n      <td>2020</td>\n      <td>post</td>\n    </tr>\n    <tr>\n      <th>2002</th>\n      <td>Mason Stajduhar</td>\n      <td>NaN</td>\n      <td>GK</td>\n      <td>0</td>\n      <td>0</td>\n      <td>0</td>\n      <td>0</td>\n      <td>0</td>\n      <td>0</td>\n      <td>0.00</td>\n      <td>0/0</td>\n      <td>0</td>\n      <td>0</td>\n      <td>0</td>\n      <td>0</td>\n      <td>0.0</td>\n      <td>0.0</td>\n      <td>2020</td>\n      <td>post</td>\n    </tr>\n    <tr>\n      <th>2003</th>\n      <td>Brady Scott</td>\n      <td>NaN</td>\n      <td>GK</td>\n      <td>0</td>\n      <td>0</td>\n      <td>0</td>\n      <td>0</td>\n      <td>0</td>\n      <td>0</td>\n      <td>0.00</td>\n      <td>0/0</td>\n      <td>0</td>\n      <td>0</td>\n      <td>0</td>\n      <td>0</td>\n      <td>0.0</td>\n      <td>0.0</td>\n      <td>2020</td>\n      <td>post</td>\n    </tr>\n    <tr>\n      <th>2004</th>\n      <td>Kendall McIntosh</td>\n      <td>NaN</td>\n      <td>GK</td>\n      <td>0</td>\n      <td>0</td>\n      <td>0</td>\n      <td>0</td>\n      <td>0</td>\n      <td>0</td>\n      <td>0.00</td>\n      <td>0/0</td>\n      <td>0</td>\n      <td>0</td>\n      <td>0</td>\n      <td>0</td>\n      <td>0.0</td>\n      <td>0.0</td>\n      <td>2020</td>\n      <td>post</td>\n    </tr>\n    <tr>\n      <th>2005</th>\n      <td>Matt Bersano</td>\n      <td>NaN</td>\n      <td>GK</td>\n      <td>0</td>\n      <td>0</td>\n      <td>0</td>\n      <td>0</td>\n      <td>0</td>\n      <td>0</td>\n      <td>0.00</td>\n      <td>0/0</td>\n      <td>0</td>\n      <td>0</td>\n      <td>0</td>\n      <td>0</td>\n      <td>0.0</td>\n      <td>0.0</td>\n      <td>2020</td>\n      <td>post</td>\n    </tr>\n  </tbody>\n</table>\n<p>2006 rows × 19 columns</p>\n</div>"
     },
     "metadata": {},
     "execution_count": 100
    }
   ],
   "source": [
    "\n",
    "#Dependencies\n",
    "%matplotlib notebook\n",
    "\n",
    "import matplotlib.pyplot as plt\n",
    "import pandas as pd\n",
    "import scipy.stats as st\n",
    "from scipy.stats import linregress\n",
    "from scipy.stats import sem\n",
    "from collections import Counter\n",
    "import numpy as np\n",
    "import os\n",
    "import csv\n",
    "\n",
    "#Read raw csv for all_goalkeepers_working_copy\n",
    "\n",
    "gk_Cleaning = \"all_goalkeepers_working_copy.csv\"\n",
    "gk_cleaning = pd.read_csv(gk_Cleaning)\n",
    "gk_cleaning"
   ]
  },
  {
   "cell_type": "code",
   "execution_count": 101,
   "metadata": {},
   "outputs": [
    {
     "output_type": "execute_result",
     "data": {
      "text/plain": [
       "                Player Club Position  Games Played  GS  Minutes  Shots   SV  \\\n",
       "0            Mark Dodd  DAL       GK            31  31     2776    235  160   \n",
       "1           Tony Meola  MET       GK            29  29     2610    188  142   \n",
       "2       Mark Dougherty  TB        GK            28  28     2520    186  123   \n",
       "3         Jorge Campos  LA        GK            24  24     2160    133  100   \n",
       "4       Garth Lagerwey  KC        GK            23  22     1959    133   83   \n",
       "...                ...  ...      ...           ...  ..      ...    ...  ...   \n",
       "1847   Phillip Ejimadu  NaN       GK             0   0        0      0    0   \n",
       "1848  Kendall McIntosh  NaN       GK             0   0        0      0    0   \n",
       "1849    Pablo Sisniega  NaN       GK             0   0        0      0    0   \n",
       "1850     Brendan Moore  NaN       GK             0   0        0      0    0   \n",
       "1851     Jeff Caldwell  NaN       GK             0   0        0      0    0   \n",
       "\n",
       "      Goals Against  Goals Against Average   PKG/A  Won  Loss  Tie  ShO  \\\n",
       "0                45                   1.45   5-May   17    14    0    6   \n",
       "1                38                   1.31   4-Mar   14    15    0    9   \n",
       "2                47                   1.68  10-Sep   17    11    0    3   \n",
       "3                27                   1.13     0/1   13     8    0    4   \n",
       "4                38                   1.73   2-Feb   12    10    0    3   \n",
       "...             ...                    ...     ...  ...   ...  ...  ...   \n",
       "1847              0                   0.00     0/0    0     0    0    0   \n",
       "1848              0                   0.00     0/0    0     0    0    0   \n",
       "1849              0                   0.00     0/0    0     0    0    0   \n",
       "1850              0                   0.00     0/0    0     0    0    0   \n",
       "1851              0                   0.00     0/0    0     0    0    0   \n",
       "\n",
       "      Winning %  Save %  Year Season  \n",
       "0          54.8    68.1  1996    reg  \n",
       "1          48.3    75.5  1996    reg  \n",
       "2          60.7    66.1  1996    reg  \n",
       "3          54.2    75.2  1996    reg  \n",
       "4          52.2    62.4  1996    reg  \n",
       "...         ...     ...   ...    ...  \n",
       "1847        0.0     0.0  2019   post  \n",
       "1848        0.0     0.0  2019   post  \n",
       "1849        0.0     0.0  2019   post  \n",
       "1850        0.0     0.0  2019   post  \n",
       "1851        0.0     0.0  2019   post  \n",
       "\n",
       "[1852 rows x 19 columns]"
      ],
      "text/html": "<div>\n<style scoped>\n    .dataframe tbody tr th:only-of-type {\n        vertical-align: middle;\n    }\n\n    .dataframe tbody tr th {\n        vertical-align: top;\n    }\n\n    .dataframe thead th {\n        text-align: right;\n    }\n</style>\n<table border=\"1\" class=\"dataframe\">\n  <thead>\n    <tr style=\"text-align: right;\">\n      <th></th>\n      <th>Player</th>\n      <th>Club</th>\n      <th>Position</th>\n      <th>Games Played</th>\n      <th>GS</th>\n      <th>Minutes</th>\n      <th>Shots</th>\n      <th>SV</th>\n      <th>Goals Against</th>\n      <th>Goals Against Average</th>\n      <th>PKG/A</th>\n      <th>Won</th>\n      <th>Loss</th>\n      <th>Tie</th>\n      <th>ShO</th>\n      <th>Winning %</th>\n      <th>Save %</th>\n      <th>Year</th>\n      <th>Season</th>\n    </tr>\n  </thead>\n  <tbody>\n    <tr>\n      <th>0</th>\n      <td>Mark Dodd</td>\n      <td>DAL</td>\n      <td>GK</td>\n      <td>31</td>\n      <td>31</td>\n      <td>2776</td>\n      <td>235</td>\n      <td>160</td>\n      <td>45</td>\n      <td>1.45</td>\n      <td>5-May</td>\n      <td>17</td>\n      <td>14</td>\n      <td>0</td>\n      <td>6</td>\n      <td>54.8</td>\n      <td>68.1</td>\n      <td>1996</td>\n      <td>reg</td>\n    </tr>\n    <tr>\n      <th>1</th>\n      <td>Tony Meola</td>\n      <td>MET</td>\n      <td>GK</td>\n      <td>29</td>\n      <td>29</td>\n      <td>2610</td>\n      <td>188</td>\n      <td>142</td>\n      <td>38</td>\n      <td>1.31</td>\n      <td>4-Mar</td>\n      <td>14</td>\n      <td>15</td>\n      <td>0</td>\n      <td>9</td>\n      <td>48.3</td>\n      <td>75.5</td>\n      <td>1996</td>\n      <td>reg</td>\n    </tr>\n    <tr>\n      <th>2</th>\n      <td>Mark Dougherty</td>\n      <td>TB</td>\n      <td>GK</td>\n      <td>28</td>\n      <td>28</td>\n      <td>2520</td>\n      <td>186</td>\n      <td>123</td>\n      <td>47</td>\n      <td>1.68</td>\n      <td>10-Sep</td>\n      <td>17</td>\n      <td>11</td>\n      <td>0</td>\n      <td>3</td>\n      <td>60.7</td>\n      <td>66.1</td>\n      <td>1996</td>\n      <td>reg</td>\n    </tr>\n    <tr>\n      <th>3</th>\n      <td>Jorge Campos</td>\n      <td>LA</td>\n      <td>GK</td>\n      <td>24</td>\n      <td>24</td>\n      <td>2160</td>\n      <td>133</td>\n      <td>100</td>\n      <td>27</td>\n      <td>1.13</td>\n      <td>0/1</td>\n      <td>13</td>\n      <td>8</td>\n      <td>0</td>\n      <td>4</td>\n      <td>54.2</td>\n      <td>75.2</td>\n      <td>1996</td>\n      <td>reg</td>\n    </tr>\n    <tr>\n      <th>4</th>\n      <td>Garth Lagerwey</td>\n      <td>KC</td>\n      <td>GK</td>\n      <td>23</td>\n      <td>22</td>\n      <td>1959</td>\n      <td>133</td>\n      <td>83</td>\n      <td>38</td>\n      <td>1.73</td>\n      <td>2-Feb</td>\n      <td>12</td>\n      <td>10</td>\n      <td>0</td>\n      <td>3</td>\n      <td>52.2</td>\n      <td>62.4</td>\n      <td>1996</td>\n      <td>reg</td>\n    </tr>\n    <tr>\n      <th>...</th>\n      <td>...</td>\n      <td>...</td>\n      <td>...</td>\n      <td>...</td>\n      <td>...</td>\n      <td>...</td>\n      <td>...</td>\n      <td>...</td>\n      <td>...</td>\n      <td>...</td>\n      <td>...</td>\n      <td>...</td>\n      <td>...</td>\n      <td>...</td>\n      <td>...</td>\n      <td>...</td>\n      <td>...</td>\n      <td>...</td>\n      <td>...</td>\n    </tr>\n    <tr>\n      <th>1847</th>\n      <td>Phillip Ejimadu</td>\n      <td>NaN</td>\n      <td>GK</td>\n      <td>0</td>\n      <td>0</td>\n      <td>0</td>\n      <td>0</td>\n      <td>0</td>\n      <td>0</td>\n      <td>0.00</td>\n      <td>0/0</td>\n      <td>0</td>\n      <td>0</td>\n      <td>0</td>\n      <td>0</td>\n      <td>0.0</td>\n      <td>0.0</td>\n      <td>2019</td>\n      <td>post</td>\n    </tr>\n    <tr>\n      <th>1848</th>\n      <td>Kendall McIntosh</td>\n      <td>NaN</td>\n      <td>GK</td>\n      <td>0</td>\n      <td>0</td>\n      <td>0</td>\n      <td>0</td>\n      <td>0</td>\n      <td>0</td>\n      <td>0.00</td>\n      <td>0/0</td>\n      <td>0</td>\n      <td>0</td>\n      <td>0</td>\n      <td>0</td>\n      <td>0.0</td>\n      <td>0.0</td>\n      <td>2019</td>\n      <td>post</td>\n    </tr>\n    <tr>\n      <th>1849</th>\n      <td>Pablo Sisniega</td>\n      <td>NaN</td>\n      <td>GK</td>\n      <td>0</td>\n      <td>0</td>\n      <td>0</td>\n      <td>0</td>\n      <td>0</td>\n      <td>0</td>\n      <td>0.00</td>\n      <td>0/0</td>\n      <td>0</td>\n      <td>0</td>\n      <td>0</td>\n      <td>0</td>\n      <td>0.0</td>\n      <td>0.0</td>\n      <td>2019</td>\n      <td>post</td>\n    </tr>\n    <tr>\n      <th>1850</th>\n      <td>Brendan Moore</td>\n      <td>NaN</td>\n      <td>GK</td>\n      <td>0</td>\n      <td>0</td>\n      <td>0</td>\n      <td>0</td>\n      <td>0</td>\n      <td>0</td>\n      <td>0.00</td>\n      <td>0/0</td>\n      <td>0</td>\n      <td>0</td>\n      <td>0</td>\n      <td>0</td>\n      <td>0.0</td>\n      <td>0.0</td>\n      <td>2019</td>\n      <td>post</td>\n    </tr>\n    <tr>\n      <th>1851</th>\n      <td>Jeff Caldwell</td>\n      <td>NaN</td>\n      <td>GK</td>\n      <td>0</td>\n      <td>0</td>\n      <td>0</td>\n      <td>0</td>\n      <td>0</td>\n      <td>0</td>\n      <td>0.00</td>\n      <td>0/0</td>\n      <td>0</td>\n      <td>0</td>\n      <td>0</td>\n      <td>0</td>\n      <td>0.0</td>\n      <td>0.0</td>\n      <td>2019</td>\n      <td>post</td>\n    </tr>\n  </tbody>\n</table>\n<p>1852 rows × 19 columns</p>\n</div>"
     },
     "metadata": {},
     "execution_count": 101
    }
   ],
   "source": [
    "#Eliminate rows past 2019\n",
    "indexNames = gk_cleaning[ gk_cleaning[\"Year\"] > 2019 ].index\n",
    "# Delete these row indexes from dataFrame\n",
    "gk_cleaning.drop(indexNames , inplace=True)\n",
    "gk_cleaning\n"
   ]
  },
  {
   "cell_type": "code",
   "execution_count": 102,
   "metadata": {},
   "outputs": [
    {
     "output_type": "execute_result",
     "data": {
      "text/plain": [
       "              Player Club Position  Games Played  GS  Minutes  Shots   SV  \\\n",
       "0          Mark Dodd  DAL       GK            31  31     2776    235  160   \n",
       "1         Tony Meola  MET       GK            29  29     2610    188  142   \n",
       "2     Mark Dougherty  TB        GK            28  28     2520    186  123   \n",
       "3       Jorge Campos  LA        GK            24  24     2160    133  100   \n",
       "4     Garth Lagerwey  KC        GK            23  22     1959    133   83   \n",
       "...              ...  ...      ...           ...  ..      ...    ...  ...   \n",
       "1226   Brendan Moore  ATL       GK             0   0        0      0    0   \n",
       "1227   Jeff Caldwell   NE       GK             0   0        0      0    0   \n",
       "1228    Adam Grinwis  ORL       GK             0   0        0      0    0   \n",
       "1229    Thomas Hasal  VAN       GK             0   0        0      0    0   \n",
       "1230     David Ochoa  RSL       GK             0   0        0      0    0   \n",
       "\n",
       "      Goals Against  Goals Against Average   PKG/A  Won  Loss  Tie  ShO  \\\n",
       "0                45                   1.45   5-May   17    14    0    6   \n",
       "1                38                   1.31   4-Mar   14    15    0    9   \n",
       "2                47                   1.68  10-Sep   17    11    0    3   \n",
       "3                27                   1.13     0/1   13     8    0    4   \n",
       "4                38                   1.73   2-Feb   12    10    0    3   \n",
       "...             ...                    ...     ...  ...   ...  ...  ...   \n",
       "1226              0                   0.00     0/0    0     0    0    0   \n",
       "1227              0                   0.00     0/0    0     0    0    0   \n",
       "1228              0                   0.00     0/0    0     0    0    0   \n",
       "1229              0                   0.00     0/0    0     0    0    0   \n",
       "1230              0                   0.00     0/0    0     0    0    0   \n",
       "\n",
       "      Winning %  Save %  Year Season  \n",
       "0          54.8    68.1  1996    reg  \n",
       "1          48.3    75.5  1996    reg  \n",
       "2          60.7    66.1  1996    reg  \n",
       "3          54.2    75.2  1996    reg  \n",
       "4          52.2    62.4  1996    reg  \n",
       "...         ...     ...   ...    ...  \n",
       "1226        0.0     0.0  2019    reg  \n",
       "1227        0.0     0.0  2019    reg  \n",
       "1228        0.0     0.0  2019    reg  \n",
       "1229        0.0     0.0  2019    reg  \n",
       "1230        0.0     0.0  2019    reg  \n",
       "\n",
       "[1231 rows x 19 columns]"
      ],
      "text/html": "<div>\n<style scoped>\n    .dataframe tbody tr th:only-of-type {\n        vertical-align: middle;\n    }\n\n    .dataframe tbody tr th {\n        vertical-align: top;\n    }\n\n    .dataframe thead th {\n        text-align: right;\n    }\n</style>\n<table border=\"1\" class=\"dataframe\">\n  <thead>\n    <tr style=\"text-align: right;\">\n      <th></th>\n      <th>Player</th>\n      <th>Club</th>\n      <th>Position</th>\n      <th>Games Played</th>\n      <th>GS</th>\n      <th>Minutes</th>\n      <th>Shots</th>\n      <th>SV</th>\n      <th>Goals Against</th>\n      <th>Goals Against Average</th>\n      <th>PKG/A</th>\n      <th>Won</th>\n      <th>Loss</th>\n      <th>Tie</th>\n      <th>ShO</th>\n      <th>Winning %</th>\n      <th>Save %</th>\n      <th>Year</th>\n      <th>Season</th>\n    </tr>\n  </thead>\n  <tbody>\n    <tr>\n      <th>0</th>\n      <td>Mark Dodd</td>\n      <td>DAL</td>\n      <td>GK</td>\n      <td>31</td>\n      <td>31</td>\n      <td>2776</td>\n      <td>235</td>\n      <td>160</td>\n      <td>45</td>\n      <td>1.45</td>\n      <td>5-May</td>\n      <td>17</td>\n      <td>14</td>\n      <td>0</td>\n      <td>6</td>\n      <td>54.8</td>\n      <td>68.1</td>\n      <td>1996</td>\n      <td>reg</td>\n    </tr>\n    <tr>\n      <th>1</th>\n      <td>Tony Meola</td>\n      <td>MET</td>\n      <td>GK</td>\n      <td>29</td>\n      <td>29</td>\n      <td>2610</td>\n      <td>188</td>\n      <td>142</td>\n      <td>38</td>\n      <td>1.31</td>\n      <td>4-Mar</td>\n      <td>14</td>\n      <td>15</td>\n      <td>0</td>\n      <td>9</td>\n      <td>48.3</td>\n      <td>75.5</td>\n      <td>1996</td>\n      <td>reg</td>\n    </tr>\n    <tr>\n      <th>2</th>\n      <td>Mark Dougherty</td>\n      <td>TB</td>\n      <td>GK</td>\n      <td>28</td>\n      <td>28</td>\n      <td>2520</td>\n      <td>186</td>\n      <td>123</td>\n      <td>47</td>\n      <td>1.68</td>\n      <td>10-Sep</td>\n      <td>17</td>\n      <td>11</td>\n      <td>0</td>\n      <td>3</td>\n      <td>60.7</td>\n      <td>66.1</td>\n      <td>1996</td>\n      <td>reg</td>\n    </tr>\n    <tr>\n      <th>3</th>\n      <td>Jorge Campos</td>\n      <td>LA</td>\n      <td>GK</td>\n      <td>24</td>\n      <td>24</td>\n      <td>2160</td>\n      <td>133</td>\n      <td>100</td>\n      <td>27</td>\n      <td>1.13</td>\n      <td>0/1</td>\n      <td>13</td>\n      <td>8</td>\n      <td>0</td>\n      <td>4</td>\n      <td>54.2</td>\n      <td>75.2</td>\n      <td>1996</td>\n      <td>reg</td>\n    </tr>\n    <tr>\n      <th>4</th>\n      <td>Garth Lagerwey</td>\n      <td>KC</td>\n      <td>GK</td>\n      <td>23</td>\n      <td>22</td>\n      <td>1959</td>\n      <td>133</td>\n      <td>83</td>\n      <td>38</td>\n      <td>1.73</td>\n      <td>2-Feb</td>\n      <td>12</td>\n      <td>10</td>\n      <td>0</td>\n      <td>3</td>\n      <td>52.2</td>\n      <td>62.4</td>\n      <td>1996</td>\n      <td>reg</td>\n    </tr>\n    <tr>\n      <th>...</th>\n      <td>...</td>\n      <td>...</td>\n      <td>...</td>\n      <td>...</td>\n      <td>...</td>\n      <td>...</td>\n      <td>...</td>\n      <td>...</td>\n      <td>...</td>\n      <td>...</td>\n      <td>...</td>\n      <td>...</td>\n      <td>...</td>\n      <td>...</td>\n      <td>...</td>\n      <td>...</td>\n      <td>...</td>\n      <td>...</td>\n      <td>...</td>\n    </tr>\n    <tr>\n      <th>1226</th>\n      <td>Brendan Moore</td>\n      <td>ATL</td>\n      <td>GK</td>\n      <td>0</td>\n      <td>0</td>\n      <td>0</td>\n      <td>0</td>\n      <td>0</td>\n      <td>0</td>\n      <td>0.00</td>\n      <td>0/0</td>\n      <td>0</td>\n      <td>0</td>\n      <td>0</td>\n      <td>0</td>\n      <td>0.0</td>\n      <td>0.0</td>\n      <td>2019</td>\n      <td>reg</td>\n    </tr>\n    <tr>\n      <th>1227</th>\n      <td>Jeff Caldwell</td>\n      <td>NE</td>\n      <td>GK</td>\n      <td>0</td>\n      <td>0</td>\n      <td>0</td>\n      <td>0</td>\n      <td>0</td>\n      <td>0</td>\n      <td>0.00</td>\n      <td>0/0</td>\n      <td>0</td>\n      <td>0</td>\n      <td>0</td>\n      <td>0</td>\n      <td>0.0</td>\n      <td>0.0</td>\n      <td>2019</td>\n      <td>reg</td>\n    </tr>\n    <tr>\n      <th>1228</th>\n      <td>Adam Grinwis</td>\n      <td>ORL</td>\n      <td>GK</td>\n      <td>0</td>\n      <td>0</td>\n      <td>0</td>\n      <td>0</td>\n      <td>0</td>\n      <td>0</td>\n      <td>0.00</td>\n      <td>0/0</td>\n      <td>0</td>\n      <td>0</td>\n      <td>0</td>\n      <td>0</td>\n      <td>0.0</td>\n      <td>0.0</td>\n      <td>2019</td>\n      <td>reg</td>\n    </tr>\n    <tr>\n      <th>1229</th>\n      <td>Thomas Hasal</td>\n      <td>VAN</td>\n      <td>GK</td>\n      <td>0</td>\n      <td>0</td>\n      <td>0</td>\n      <td>0</td>\n      <td>0</td>\n      <td>0</td>\n      <td>0.00</td>\n      <td>0/0</td>\n      <td>0</td>\n      <td>0</td>\n      <td>0</td>\n      <td>0</td>\n      <td>0.0</td>\n      <td>0.0</td>\n      <td>2019</td>\n      <td>reg</td>\n    </tr>\n    <tr>\n      <th>1230</th>\n      <td>David Ochoa</td>\n      <td>RSL</td>\n      <td>GK</td>\n      <td>0</td>\n      <td>0</td>\n      <td>0</td>\n      <td>0</td>\n      <td>0</td>\n      <td>0</td>\n      <td>0.00</td>\n      <td>0/0</td>\n      <td>0</td>\n      <td>0</td>\n      <td>0</td>\n      <td>0</td>\n      <td>0.0</td>\n      <td>0.0</td>\n      <td>2019</td>\n      <td>reg</td>\n    </tr>\n  </tbody>\n</table>\n<p>1231 rows × 19 columns</p>\n</div>"
     },
     "metadata": {},
     "execution_count": 102
    }
   ],
   "source": [
    "#Eliminate post season rows\n",
    "indexNames = gk_cleaning[ gk_cleaning[\"Season\"] == \"post\" ].index\n",
    "# Delete these row indexes from dataFrame\n",
    "gk_cleaning.drop(indexNames , inplace=True)\n",
    "gk_cleaning\n",
    "\n",
    "\n"
   ]
  },
  {
   "cell_type": "code",
   "execution_count": 103,
   "metadata": {},
   "outputs": [
    {
     "output_type": "execute_result",
     "data": {
      "text/plain": [
       "              Player Club Position  Games Played  GS  Minutes  Shots   SV  \\\n",
       "0          Mark Dodd  DAL       GK            31  31     2776    235  160   \n",
       "1         Tony Meola  MET       GK            29  29     2610    188  142   \n",
       "2     Mark Dougherty  TB        GK            28  28     2520    186  123   \n",
       "3       Jorge Campos  LA        GK            24  24     2160    133  100   \n",
       "4     Garth Lagerwey  KC        GK            23  22     1959    133   83   \n",
       "...              ...  ...      ...           ...  ..      ...    ...  ...   \n",
       "1173    David Ousted  CHI       GK            14  14     1260     56   34   \n",
       "1174    Zack Steffen  CLB       GK            13  13     1170     56   39   \n",
       "1175       Eloy Room  CLB       GK            12  12     1080     47   33   \n",
       "1176     Clint Irwin  COL       GK            11   9      901     58   42   \n",
       "1177  Jeff Attinella  POR       GK            10  10      900     64   40   \n",
       "\n",
       "      Goals Against  Goals Against Average   PKG/A  Won  Loss  Tie  ShO  \\\n",
       "0                45                   1.45   5-May   17    14    0    6   \n",
       "1                38                   1.31   4-Mar   14    15    0    9   \n",
       "2                47                   1.68  10-Sep   17    11    0    3   \n",
       "3                27                   1.13     0/1   13     8    0    4   \n",
       "4                38                   1.73   2-Feb   12    10    0    3   \n",
       "...             ...                    ...     ...  ...   ...  ...  ...   \n",
       "1173             20                   1.43   2-Jan    4     6    4    4   \n",
       "1174             17                   1.31   2-Jan    5     6    2    4   \n",
       "1175             14                   1.17   2-Feb    5     2    5    1   \n",
       "1176             17                   1.89   3-Feb    4     4    2    1   \n",
       "1177             24                   2.40   3-Mar    1     7    2    0   \n",
       "\n",
       "      Winning %  Save %  Year Season  \n",
       "0          54.8    68.1  1996    reg  \n",
       "1          48.3    75.5  1996    reg  \n",
       "2          60.7    66.1  1996    reg  \n",
       "3          54.2    75.2  1996    reg  \n",
       "4          52.2    62.4  1996    reg  \n",
       "...         ...     ...   ...    ...  \n",
       "1173       28.6    60.7  2019    reg  \n",
       "1174       38.5    69.6  2019    reg  \n",
       "1175       41.7    70.2  2019    reg  \n",
       "1176       36.4    72.4  2019    reg  \n",
       "1177       10.0    62.5  2019    reg  \n",
       "\n",
       "[455 rows x 19 columns]"
      ],
      "text/html": "<div>\n<style scoped>\n    .dataframe tbody tr th:only-of-type {\n        vertical-align: middle;\n    }\n\n    .dataframe tbody tr th {\n        vertical-align: top;\n    }\n\n    .dataframe thead th {\n        text-align: right;\n    }\n</style>\n<table border=\"1\" class=\"dataframe\">\n  <thead>\n    <tr style=\"text-align: right;\">\n      <th></th>\n      <th>Player</th>\n      <th>Club</th>\n      <th>Position</th>\n      <th>Games Played</th>\n      <th>GS</th>\n      <th>Minutes</th>\n      <th>Shots</th>\n      <th>SV</th>\n      <th>Goals Against</th>\n      <th>Goals Against Average</th>\n      <th>PKG/A</th>\n      <th>Won</th>\n      <th>Loss</th>\n      <th>Tie</th>\n      <th>ShO</th>\n      <th>Winning %</th>\n      <th>Save %</th>\n      <th>Year</th>\n      <th>Season</th>\n    </tr>\n  </thead>\n  <tbody>\n    <tr>\n      <th>0</th>\n      <td>Mark Dodd</td>\n      <td>DAL</td>\n      <td>GK</td>\n      <td>31</td>\n      <td>31</td>\n      <td>2776</td>\n      <td>235</td>\n      <td>160</td>\n      <td>45</td>\n      <td>1.45</td>\n      <td>5-May</td>\n      <td>17</td>\n      <td>14</td>\n      <td>0</td>\n      <td>6</td>\n      <td>54.8</td>\n      <td>68.1</td>\n      <td>1996</td>\n      <td>reg</td>\n    </tr>\n    <tr>\n      <th>1</th>\n      <td>Tony Meola</td>\n      <td>MET</td>\n      <td>GK</td>\n      <td>29</td>\n      <td>29</td>\n      <td>2610</td>\n      <td>188</td>\n      <td>142</td>\n      <td>38</td>\n      <td>1.31</td>\n      <td>4-Mar</td>\n      <td>14</td>\n      <td>15</td>\n      <td>0</td>\n      <td>9</td>\n      <td>48.3</td>\n      <td>75.5</td>\n      <td>1996</td>\n      <td>reg</td>\n    </tr>\n    <tr>\n      <th>2</th>\n      <td>Mark Dougherty</td>\n      <td>TB</td>\n      <td>GK</td>\n      <td>28</td>\n      <td>28</td>\n      <td>2520</td>\n      <td>186</td>\n      <td>123</td>\n      <td>47</td>\n      <td>1.68</td>\n      <td>10-Sep</td>\n      <td>17</td>\n      <td>11</td>\n      <td>0</td>\n      <td>3</td>\n      <td>60.7</td>\n      <td>66.1</td>\n      <td>1996</td>\n      <td>reg</td>\n    </tr>\n    <tr>\n      <th>3</th>\n      <td>Jorge Campos</td>\n      <td>LA</td>\n      <td>GK</td>\n      <td>24</td>\n      <td>24</td>\n      <td>2160</td>\n      <td>133</td>\n      <td>100</td>\n      <td>27</td>\n      <td>1.13</td>\n      <td>0/1</td>\n      <td>13</td>\n      <td>8</td>\n      <td>0</td>\n      <td>4</td>\n      <td>54.2</td>\n      <td>75.2</td>\n      <td>1996</td>\n      <td>reg</td>\n    </tr>\n    <tr>\n      <th>4</th>\n      <td>Garth Lagerwey</td>\n      <td>KC</td>\n      <td>GK</td>\n      <td>23</td>\n      <td>22</td>\n      <td>1959</td>\n      <td>133</td>\n      <td>83</td>\n      <td>38</td>\n      <td>1.73</td>\n      <td>2-Feb</td>\n      <td>12</td>\n      <td>10</td>\n      <td>0</td>\n      <td>3</td>\n      <td>52.2</td>\n      <td>62.4</td>\n      <td>1996</td>\n      <td>reg</td>\n    </tr>\n    <tr>\n      <th>...</th>\n      <td>...</td>\n      <td>...</td>\n      <td>...</td>\n      <td>...</td>\n      <td>...</td>\n      <td>...</td>\n      <td>...</td>\n      <td>...</td>\n      <td>...</td>\n      <td>...</td>\n      <td>...</td>\n      <td>...</td>\n      <td>...</td>\n      <td>...</td>\n      <td>...</td>\n      <td>...</td>\n      <td>...</td>\n      <td>...</td>\n      <td>...</td>\n    </tr>\n    <tr>\n      <th>1173</th>\n      <td>David Ousted</td>\n      <td>CHI</td>\n      <td>GK</td>\n      <td>14</td>\n      <td>14</td>\n      <td>1260</td>\n      <td>56</td>\n      <td>34</td>\n      <td>20</td>\n      <td>1.43</td>\n      <td>2-Jan</td>\n      <td>4</td>\n      <td>6</td>\n      <td>4</td>\n      <td>4</td>\n      <td>28.6</td>\n      <td>60.7</td>\n      <td>2019</td>\n      <td>reg</td>\n    </tr>\n    <tr>\n      <th>1174</th>\n      <td>Zack Steffen</td>\n      <td>CLB</td>\n      <td>GK</td>\n      <td>13</td>\n      <td>13</td>\n      <td>1170</td>\n      <td>56</td>\n      <td>39</td>\n      <td>17</td>\n      <td>1.31</td>\n      <td>2-Jan</td>\n      <td>5</td>\n      <td>6</td>\n      <td>2</td>\n      <td>4</td>\n      <td>38.5</td>\n      <td>69.6</td>\n      <td>2019</td>\n      <td>reg</td>\n    </tr>\n    <tr>\n      <th>1175</th>\n      <td>Eloy Room</td>\n      <td>CLB</td>\n      <td>GK</td>\n      <td>12</td>\n      <td>12</td>\n      <td>1080</td>\n      <td>47</td>\n      <td>33</td>\n      <td>14</td>\n      <td>1.17</td>\n      <td>2-Feb</td>\n      <td>5</td>\n      <td>2</td>\n      <td>5</td>\n      <td>1</td>\n      <td>41.7</td>\n      <td>70.2</td>\n      <td>2019</td>\n      <td>reg</td>\n    </tr>\n    <tr>\n      <th>1176</th>\n      <td>Clint Irwin</td>\n      <td>COL</td>\n      <td>GK</td>\n      <td>11</td>\n      <td>9</td>\n      <td>901</td>\n      <td>58</td>\n      <td>42</td>\n      <td>17</td>\n      <td>1.89</td>\n      <td>3-Feb</td>\n      <td>4</td>\n      <td>4</td>\n      <td>2</td>\n      <td>1</td>\n      <td>36.4</td>\n      <td>72.4</td>\n      <td>2019</td>\n      <td>reg</td>\n    </tr>\n    <tr>\n      <th>1177</th>\n      <td>Jeff Attinella</td>\n      <td>POR</td>\n      <td>GK</td>\n      <td>10</td>\n      <td>10</td>\n      <td>900</td>\n      <td>64</td>\n      <td>40</td>\n      <td>24</td>\n      <td>2.40</td>\n      <td>3-Mar</td>\n      <td>1</td>\n      <td>7</td>\n      <td>2</td>\n      <td>0</td>\n      <td>10.0</td>\n      <td>62.5</td>\n      <td>2019</td>\n      <td>reg</td>\n    </tr>\n  </tbody>\n</table>\n<p>455 rows × 19 columns</p>\n</div>"
     },
     "metadata": {},
     "execution_count": 103
    }
   ],
   "source": [
    "#Eliminate Goal keepers with less than 900 Minutes\n",
    "indexNames = gk_cleaning[ gk_cleaning[\"Minutes\"] < 900  ].index\n",
    "\n",
    "# Delete these row indexes from dataFrame\n",
    "gk_cleaning.drop(indexNames , inplace=True)\n",
    "gk_cleaning\n"
   ]
  },
  {
   "cell_type": "code",
   "execution_count": 112,
   "metadata": {},
   "outputs": [
    {
     "output_type": "execute_result",
     "data": {
      "text/plain": [
       "               Player Club Position  Games Played  GS  Minutes  Shots   SV  \\\n",
       "1071    David Bingham   LA       GK            34  34     3060    186  121   \n",
       "930        Joe Bendik  PHI       GK            34  34     3060    178  114   \n",
       "1151      Daniel Vega   SJ       GK            34  34     3060    164  108   \n",
       "866       Steve Clark  POR       GK            34  34     3060    168  114   \n",
       "1072        Evan Bush  MTL       GK            34  34     3060    184  132   \n",
       "...               ...  ...      ...           ...  ..      ...    ...  ...   \n",
       "636       Greg Sutton  NY        GK            10  10      900     44   30   \n",
       "758        Joe Cannon  VAN       GK            10  10      900     42   31   \n",
       "823    Jeff Attinella  POR       GK            10  10      900     60   45   \n",
       "398       Noah Palmer  CLB       GK            10  10      900     56   40   \n",
       "538   Andy Gruenebaum  CLB       GK            10  10      900     36   21   \n",
       "\n",
       "      Goals Against  Goals Against Average  PKG/A  Won  Loss  Tie  ShO  \\\n",
       "1071             64                   1.88  8-Jun   13    12    9    8   \n",
       "930              60                   1.76  7-Apr    9    11   14    5   \n",
       "1151             55                   1.62  7-Apr   13    16    5    7   \n",
       "866              53                   1.56  4-Apr   15    11    8    6   \n",
       "1072             53                   1.56  8-Jun   14    16    4   10   \n",
       "...             ...                    ...    ...  ...   ...  ...  ...   \n",
       "636              15                   1.50  5-Feb    3     2    5    2   \n",
       "758              14                   1.40    0/0    3     4    3    1   \n",
       "823              14                   1.40  5-Mar    2     4    4    3   \n",
       "398              13                   1.30    0/0    1     5    4    1   \n",
       "538              12                   1.20  2-Jan    4     2    4    1   \n",
       "\n",
       "      Winning %  Save %  Year Season  \n",
       "1071       38.2    65.1  2018    reg  \n",
       "930        26.5    64.0  2016    reg  \n",
       "1151       38.2    65.9  2019    reg  \n",
       "866        44.1    67.9  2015    reg  \n",
       "1072       41.2    71.7  2018    reg  \n",
       "...         ...     ...   ...    ...  \n",
       "636        30.0    68.2  2011    reg  \n",
       "758        30.0    73.8  2013    reg  \n",
       "823        20.0    75.0  2014    reg  \n",
       "398        10.0    71.4  2006    reg  \n",
       "538        40.0    58.3  2009    reg  \n",
       "\n",
       "[455 rows x 19 columns]"
      ],
      "text/html": "<div>\n<style scoped>\n    .dataframe tbody tr th:only-of-type {\n        vertical-align: middle;\n    }\n\n    .dataframe tbody tr th {\n        vertical-align: top;\n    }\n\n    .dataframe thead th {\n        text-align: right;\n    }\n</style>\n<table border=\"1\" class=\"dataframe\">\n  <thead>\n    <tr style=\"text-align: right;\">\n      <th></th>\n      <th>Player</th>\n      <th>Club</th>\n      <th>Position</th>\n      <th>Games Played</th>\n      <th>GS</th>\n      <th>Minutes</th>\n      <th>Shots</th>\n      <th>SV</th>\n      <th>Goals Against</th>\n      <th>Goals Against Average</th>\n      <th>PKG/A</th>\n      <th>Won</th>\n      <th>Loss</th>\n      <th>Tie</th>\n      <th>ShO</th>\n      <th>Winning %</th>\n      <th>Save %</th>\n      <th>Year</th>\n      <th>Season</th>\n    </tr>\n  </thead>\n  <tbody>\n    <tr>\n      <th>1071</th>\n      <td>David Bingham</td>\n      <td>LA</td>\n      <td>GK</td>\n      <td>34</td>\n      <td>34</td>\n      <td>3060</td>\n      <td>186</td>\n      <td>121</td>\n      <td>64</td>\n      <td>1.88</td>\n      <td>8-Jun</td>\n      <td>13</td>\n      <td>12</td>\n      <td>9</td>\n      <td>8</td>\n      <td>38.2</td>\n      <td>65.1</td>\n      <td>2018</td>\n      <td>reg</td>\n    </tr>\n    <tr>\n      <th>930</th>\n      <td>Joe Bendik</td>\n      <td>PHI</td>\n      <td>GK</td>\n      <td>34</td>\n      <td>34</td>\n      <td>3060</td>\n      <td>178</td>\n      <td>114</td>\n      <td>60</td>\n      <td>1.76</td>\n      <td>7-Apr</td>\n      <td>9</td>\n      <td>11</td>\n      <td>14</td>\n      <td>5</td>\n      <td>26.5</td>\n      <td>64.0</td>\n      <td>2016</td>\n      <td>reg</td>\n    </tr>\n    <tr>\n      <th>1151</th>\n      <td>Daniel Vega</td>\n      <td>SJ</td>\n      <td>GK</td>\n      <td>34</td>\n      <td>34</td>\n      <td>3060</td>\n      <td>164</td>\n      <td>108</td>\n      <td>55</td>\n      <td>1.62</td>\n      <td>7-Apr</td>\n      <td>13</td>\n      <td>16</td>\n      <td>5</td>\n      <td>7</td>\n      <td>38.2</td>\n      <td>65.9</td>\n      <td>2019</td>\n      <td>reg</td>\n    </tr>\n    <tr>\n      <th>866</th>\n      <td>Steve Clark</td>\n      <td>POR</td>\n      <td>GK</td>\n      <td>34</td>\n      <td>34</td>\n      <td>3060</td>\n      <td>168</td>\n      <td>114</td>\n      <td>53</td>\n      <td>1.56</td>\n      <td>4-Apr</td>\n      <td>15</td>\n      <td>11</td>\n      <td>8</td>\n      <td>6</td>\n      <td>44.1</td>\n      <td>67.9</td>\n      <td>2015</td>\n      <td>reg</td>\n    </tr>\n    <tr>\n      <th>1072</th>\n      <td>Evan Bush</td>\n      <td>MTL</td>\n      <td>GK</td>\n      <td>34</td>\n      <td>34</td>\n      <td>3060</td>\n      <td>184</td>\n      <td>132</td>\n      <td>53</td>\n      <td>1.56</td>\n      <td>8-Jun</td>\n      <td>14</td>\n      <td>16</td>\n      <td>4</td>\n      <td>10</td>\n      <td>41.2</td>\n      <td>71.7</td>\n      <td>2018</td>\n      <td>reg</td>\n    </tr>\n    <tr>\n      <th>...</th>\n      <td>...</td>\n      <td>...</td>\n      <td>...</td>\n      <td>...</td>\n      <td>...</td>\n      <td>...</td>\n      <td>...</td>\n      <td>...</td>\n      <td>...</td>\n      <td>...</td>\n      <td>...</td>\n      <td>...</td>\n      <td>...</td>\n      <td>...</td>\n      <td>...</td>\n      <td>...</td>\n      <td>...</td>\n      <td>...</td>\n      <td>...</td>\n    </tr>\n    <tr>\n      <th>636</th>\n      <td>Greg Sutton</td>\n      <td>NY</td>\n      <td>GK</td>\n      <td>10</td>\n      <td>10</td>\n      <td>900</td>\n      <td>44</td>\n      <td>30</td>\n      <td>15</td>\n      <td>1.50</td>\n      <td>5-Feb</td>\n      <td>3</td>\n      <td>2</td>\n      <td>5</td>\n      <td>2</td>\n      <td>30.0</td>\n      <td>68.2</td>\n      <td>2011</td>\n      <td>reg</td>\n    </tr>\n    <tr>\n      <th>758</th>\n      <td>Joe Cannon</td>\n      <td>VAN</td>\n      <td>GK</td>\n      <td>10</td>\n      <td>10</td>\n      <td>900</td>\n      <td>42</td>\n      <td>31</td>\n      <td>14</td>\n      <td>1.40</td>\n      <td>0/0</td>\n      <td>3</td>\n      <td>4</td>\n      <td>3</td>\n      <td>1</td>\n      <td>30.0</td>\n      <td>73.8</td>\n      <td>2013</td>\n      <td>reg</td>\n    </tr>\n    <tr>\n      <th>823</th>\n      <td>Jeff Attinella</td>\n      <td>POR</td>\n      <td>GK</td>\n      <td>10</td>\n      <td>10</td>\n      <td>900</td>\n      <td>60</td>\n      <td>45</td>\n      <td>14</td>\n      <td>1.40</td>\n      <td>5-Mar</td>\n      <td>2</td>\n      <td>4</td>\n      <td>4</td>\n      <td>3</td>\n      <td>20.0</td>\n      <td>75.0</td>\n      <td>2014</td>\n      <td>reg</td>\n    </tr>\n    <tr>\n      <th>398</th>\n      <td>Noah Palmer</td>\n      <td>CLB</td>\n      <td>GK</td>\n      <td>10</td>\n      <td>10</td>\n      <td>900</td>\n      <td>56</td>\n      <td>40</td>\n      <td>13</td>\n      <td>1.30</td>\n      <td>0/0</td>\n      <td>1</td>\n      <td>5</td>\n      <td>4</td>\n      <td>1</td>\n      <td>10.0</td>\n      <td>71.4</td>\n      <td>2006</td>\n      <td>reg</td>\n    </tr>\n    <tr>\n      <th>538</th>\n      <td>Andy Gruenebaum</td>\n      <td>CLB</td>\n      <td>GK</td>\n      <td>10</td>\n      <td>10</td>\n      <td>900</td>\n      <td>36</td>\n      <td>21</td>\n      <td>12</td>\n      <td>1.20</td>\n      <td>2-Jan</td>\n      <td>4</td>\n      <td>2</td>\n      <td>4</td>\n      <td>1</td>\n      <td>40.0</td>\n      <td>58.3</td>\n      <td>2009</td>\n      <td>reg</td>\n    </tr>\n  </tbody>\n</table>\n<p>455 rows × 19 columns</p>\n</div>"
     },
     "metadata": {},
     "execution_count": 112
    }
   ],
   "source": [
    "gk_cleaning_mins_vs_gaa = gk_cleaning.sort_values(by =['Minutes',  'Goals Against Average'], ascending=False)\n",
    "gk_cleaning_mins_vs_gaa"
   ]
  },
  {
   "cell_type": "code",
   "execution_count": 105,
   "metadata": {},
   "outputs": [
    {
     "output_type": "execute_result",
     "data": {
      "text/plain": [
       "               Player Club  Minutes  Winning %  Save %  Year\n",
       "803       Stefan Frei  SEA     3060       58.8    66.4  2014\n",
       "615      Kasey Keller  SEA     3060       52.9    75.9  2011\n",
       "674     Jimmy Nielsen  KC      3060       52.9    75.5  2012\n",
       "863       Luis Robles  MIA     3060       52.9    65.6  2015\n",
       "1070        Tim Melia  SKC     3060       52.9    71.6  2018\n",
       "...               ...  ...      ...        ...     ...   ...\n",
       "1096      Brian Rowe   ORL      900       30.0    58.0  2018\n",
       "823    Jeff Attinella  POR      900       20.0    75.0  2014\n",
       "398       Noah Palmer  CLB      900       10.0    71.4  2006\n",
       "441   Andy Gruenebaum  CLB      900       10.0    66.0  2007\n",
       "1177   Jeff Attinella  POR      900       10.0    62.5  2019\n",
       "\n",
       "[455 rows x 6 columns]"
      ],
      "text/html": "<div>\n<style scoped>\n    .dataframe tbody tr th:only-of-type {\n        vertical-align: middle;\n    }\n\n    .dataframe tbody tr th {\n        vertical-align: top;\n    }\n\n    .dataframe thead th {\n        text-align: right;\n    }\n</style>\n<table border=\"1\" class=\"dataframe\">\n  <thead>\n    <tr style=\"text-align: right;\">\n      <th></th>\n      <th>Player</th>\n      <th>Club</th>\n      <th>Minutes</th>\n      <th>Winning %</th>\n      <th>Save %</th>\n      <th>Year</th>\n    </tr>\n  </thead>\n  <tbody>\n    <tr>\n      <th>803</th>\n      <td>Stefan Frei</td>\n      <td>SEA</td>\n      <td>3060</td>\n      <td>58.8</td>\n      <td>66.4</td>\n      <td>2014</td>\n    </tr>\n    <tr>\n      <th>615</th>\n      <td>Kasey Keller</td>\n      <td>SEA</td>\n      <td>3060</td>\n      <td>52.9</td>\n      <td>75.9</td>\n      <td>2011</td>\n    </tr>\n    <tr>\n      <th>674</th>\n      <td>Jimmy Nielsen</td>\n      <td>KC</td>\n      <td>3060</td>\n      <td>52.9</td>\n      <td>75.5</td>\n      <td>2012</td>\n    </tr>\n    <tr>\n      <th>863</th>\n      <td>Luis Robles</td>\n      <td>MIA</td>\n      <td>3060</td>\n      <td>52.9</td>\n      <td>65.6</td>\n      <td>2015</td>\n    </tr>\n    <tr>\n      <th>1070</th>\n      <td>Tim Melia</td>\n      <td>SKC</td>\n      <td>3060</td>\n      <td>52.9</td>\n      <td>71.6</td>\n      <td>2018</td>\n    </tr>\n    <tr>\n      <th>...</th>\n      <td>...</td>\n      <td>...</td>\n      <td>...</td>\n      <td>...</td>\n      <td>...</td>\n      <td>...</td>\n    </tr>\n    <tr>\n      <th>1096</th>\n      <td>Brian Rowe</td>\n      <td>ORL</td>\n      <td>900</td>\n      <td>30.0</td>\n      <td>58.0</td>\n      <td>2018</td>\n    </tr>\n    <tr>\n      <th>823</th>\n      <td>Jeff Attinella</td>\n      <td>POR</td>\n      <td>900</td>\n      <td>20.0</td>\n      <td>75.0</td>\n      <td>2014</td>\n    </tr>\n    <tr>\n      <th>398</th>\n      <td>Noah Palmer</td>\n      <td>CLB</td>\n      <td>900</td>\n      <td>10.0</td>\n      <td>71.4</td>\n      <td>2006</td>\n    </tr>\n    <tr>\n      <th>441</th>\n      <td>Andy Gruenebaum</td>\n      <td>CLB</td>\n      <td>900</td>\n      <td>10.0</td>\n      <td>66.0</td>\n      <td>2007</td>\n    </tr>\n    <tr>\n      <th>1177</th>\n      <td>Jeff Attinella</td>\n      <td>POR</td>\n      <td>900</td>\n      <td>10.0</td>\n      <td>62.5</td>\n      <td>2019</td>\n    </tr>\n  </tbody>\n</table>\n<p>455 rows × 6 columns</p>\n</div>"
     },
     "metadata": {},
     "execution_count": 105
    }
   ],
   "source": [
    "\n",
    "gk_cleaning_Min_win=gk_cleaning.drop([\"Position\", \"Games Played\", \"GS\", \"ShO\", \"Won\", \"Loss\", \"Tie\", \"Goals Against\", \"Goals Against Average\", \"Shots\", \"SV\", \"Season\", \"PKG/A\"], axis = 1)\n",
    "gk_cleaning_Min_win.head(50)\n",
    "\n",
    "gk_cleaning_Min_win.sort_values(by =['Minutes',  'Winning %'], ascending=False)"
   ]
  },
  {
   "cell_type": "code",
   "execution_count": 113,
   "metadata": {},
   "outputs": [
    {
     "output_type": "execute_result",
     "data": {
      "text/plain": [
       "               Player Club  Minutes  Winning %  Save %  Year\n",
       "803       Stefan Frei  SEA     3060       58.8    66.4  2014\n",
       "615      Kasey Keller  SEA     3060       52.9    75.9  2011\n",
       "674     Jimmy Nielsen  KC      3060       52.9    75.5  2012\n",
       "863       Luis Robles  MIA     3060       52.9    65.6  2015\n",
       "1070        Tim Melia  SKC     3060       52.9    71.6  2018\n",
       "...               ...  ...      ...        ...     ...   ...\n",
       "1096      Brian Rowe   ORL      900       30.0    58.0  2018\n",
       "823    Jeff Attinella  POR      900       20.0    75.0  2014\n",
       "398       Noah Palmer  CLB      900       10.0    71.4  2006\n",
       "441   Andy Gruenebaum  CLB      900       10.0    66.0  2007\n",
       "1177   Jeff Attinella  POR      900       10.0    62.5  2019\n",
       "\n",
       "[455 rows x 6 columns]"
      ],
      "text/html": "<div>\n<style scoped>\n    .dataframe tbody tr th:only-of-type {\n        vertical-align: middle;\n    }\n\n    .dataframe tbody tr th {\n        vertical-align: top;\n    }\n\n    .dataframe thead th {\n        text-align: right;\n    }\n</style>\n<table border=\"1\" class=\"dataframe\">\n  <thead>\n    <tr style=\"text-align: right;\">\n      <th></th>\n      <th>Player</th>\n      <th>Club</th>\n      <th>Minutes</th>\n      <th>Winning %</th>\n      <th>Save %</th>\n      <th>Year</th>\n    </tr>\n  </thead>\n  <tbody>\n    <tr>\n      <th>803</th>\n      <td>Stefan Frei</td>\n      <td>SEA</td>\n      <td>3060</td>\n      <td>58.8</td>\n      <td>66.4</td>\n      <td>2014</td>\n    </tr>\n    <tr>\n      <th>615</th>\n      <td>Kasey Keller</td>\n      <td>SEA</td>\n      <td>3060</td>\n      <td>52.9</td>\n      <td>75.9</td>\n      <td>2011</td>\n    </tr>\n    <tr>\n      <th>674</th>\n      <td>Jimmy Nielsen</td>\n      <td>KC</td>\n      <td>3060</td>\n      <td>52.9</td>\n      <td>75.5</td>\n      <td>2012</td>\n    </tr>\n    <tr>\n      <th>863</th>\n      <td>Luis Robles</td>\n      <td>MIA</td>\n      <td>3060</td>\n      <td>52.9</td>\n      <td>65.6</td>\n      <td>2015</td>\n    </tr>\n    <tr>\n      <th>1070</th>\n      <td>Tim Melia</td>\n      <td>SKC</td>\n      <td>3060</td>\n      <td>52.9</td>\n      <td>71.6</td>\n      <td>2018</td>\n    </tr>\n    <tr>\n      <th>...</th>\n      <td>...</td>\n      <td>...</td>\n      <td>...</td>\n      <td>...</td>\n      <td>...</td>\n      <td>...</td>\n    </tr>\n    <tr>\n      <th>1096</th>\n      <td>Brian Rowe</td>\n      <td>ORL</td>\n      <td>900</td>\n      <td>30.0</td>\n      <td>58.0</td>\n      <td>2018</td>\n    </tr>\n    <tr>\n      <th>823</th>\n      <td>Jeff Attinella</td>\n      <td>POR</td>\n      <td>900</td>\n      <td>20.0</td>\n      <td>75.0</td>\n      <td>2014</td>\n    </tr>\n    <tr>\n      <th>398</th>\n      <td>Noah Palmer</td>\n      <td>CLB</td>\n      <td>900</td>\n      <td>10.0</td>\n      <td>71.4</td>\n      <td>2006</td>\n    </tr>\n    <tr>\n      <th>441</th>\n      <td>Andy Gruenebaum</td>\n      <td>CLB</td>\n      <td>900</td>\n      <td>10.0</td>\n      <td>66.0</td>\n      <td>2007</td>\n    </tr>\n    <tr>\n      <th>1177</th>\n      <td>Jeff Attinella</td>\n      <td>POR</td>\n      <td>900</td>\n      <td>10.0</td>\n      <td>62.5</td>\n      <td>2019</td>\n    </tr>\n  </tbody>\n</table>\n<p>455 rows × 6 columns</p>\n</div>"
     },
     "metadata": {},
     "execution_count": 113
    }
   ],
   "source": [
    "gk_cleaning_Min_win=gk_cleaning.drop([\"Position\", \"Games Played\", \"GS\", \"ShO\", \"Won\", \"Loss\", \"Tie\", \"Goals Against\", \"Goals Against Average\", \"Shots\", \"SV\", \"Season\", \"PKG/A\"], axis = 1)\n",
    "gk_cleaning_Min_win.head(50)\n",
    "\n",
    "Final_Min_win=gk_cleaning_Min_win.sort_values(by =['Minutes',  'Winning %'], ascending=False)\n",
    "Final_Min_win"
   ]
  },
  {
   "cell_type": "code",
   "execution_count": 110,
   "metadata": {},
   "outputs": [
    {
     "output_type": "execute_result",
     "data": {
      "text/plain": [
       "               Player Club  Minutes  Winning %_x  Save %  Year  Winning %_y\n",
       "0           Mark Dodd  DAL     2776         54.8    68.1  1996    50.075000\n",
       "1           Mark Dodd  DAL     2776         54.8    68.1  1996    50.075000\n",
       "2           Mark Dodd  DAL     2700         46.7    73.5  1997    50.075000\n",
       "3           Mark Dodd  DAL     2205         44.0    74.9  1998    50.075000\n",
       "4          Tony Meola  MET     2610         48.3    75.5  1996    39.663636\n",
       "..                ...  ...      ...          ...     ...   ...          ...\n",
       "450    Maxime Crepeau  VAN     2340         26.9    71.7  2019    26.900000\n",
       "451  Kenneth Kronholm  CHI     1800         30.0    66.7  2019    30.000000\n",
       "452    Spencer Richey  CIN     1710         26.3    57.5  2019    26.300000\n",
       "453  Przemyslaw Tyton  CIN     1350          6.7    51.6  2019     6.700000\n",
       "454         Eloy Room  CLB     1080         41.7    70.2  2019    41.700000\n",
       "\n",
       "[455 rows x 7 columns]"
      ],
      "text/html": "<div>\n<style scoped>\n    .dataframe tbody tr th:only-of-type {\n        vertical-align: middle;\n    }\n\n    .dataframe tbody tr th {\n        vertical-align: top;\n    }\n\n    .dataframe thead th {\n        text-align: right;\n    }\n</style>\n<table border=\"1\" class=\"dataframe\">\n  <thead>\n    <tr style=\"text-align: right;\">\n      <th></th>\n      <th>Player</th>\n      <th>Club</th>\n      <th>Minutes</th>\n      <th>Winning %_x</th>\n      <th>Save %</th>\n      <th>Year</th>\n      <th>Winning %_y</th>\n    </tr>\n  </thead>\n  <tbody>\n    <tr>\n      <th>0</th>\n      <td>Mark Dodd</td>\n      <td>DAL</td>\n      <td>2776</td>\n      <td>54.8</td>\n      <td>68.1</td>\n      <td>1996</td>\n      <td>50.075000</td>\n    </tr>\n    <tr>\n      <th>1</th>\n      <td>Mark Dodd</td>\n      <td>DAL</td>\n      <td>2776</td>\n      <td>54.8</td>\n      <td>68.1</td>\n      <td>1996</td>\n      <td>50.075000</td>\n    </tr>\n    <tr>\n      <th>2</th>\n      <td>Mark Dodd</td>\n      <td>DAL</td>\n      <td>2700</td>\n      <td>46.7</td>\n      <td>73.5</td>\n      <td>1997</td>\n      <td>50.075000</td>\n    </tr>\n    <tr>\n      <th>3</th>\n      <td>Mark Dodd</td>\n      <td>DAL</td>\n      <td>2205</td>\n      <td>44.0</td>\n      <td>74.9</td>\n      <td>1998</td>\n      <td>50.075000</td>\n    </tr>\n    <tr>\n      <th>4</th>\n      <td>Tony Meola</td>\n      <td>MET</td>\n      <td>2610</td>\n      <td>48.3</td>\n      <td>75.5</td>\n      <td>1996</td>\n      <td>39.663636</td>\n    </tr>\n    <tr>\n      <th>...</th>\n      <td>...</td>\n      <td>...</td>\n      <td>...</td>\n      <td>...</td>\n      <td>...</td>\n      <td>...</td>\n      <td>...</td>\n    </tr>\n    <tr>\n      <th>450</th>\n      <td>Maxime Crepeau</td>\n      <td>VAN</td>\n      <td>2340</td>\n      <td>26.9</td>\n      <td>71.7</td>\n      <td>2019</td>\n      <td>26.900000</td>\n    </tr>\n    <tr>\n      <th>451</th>\n      <td>Kenneth Kronholm</td>\n      <td>CHI</td>\n      <td>1800</td>\n      <td>30.0</td>\n      <td>66.7</td>\n      <td>2019</td>\n      <td>30.000000</td>\n    </tr>\n    <tr>\n      <th>452</th>\n      <td>Spencer Richey</td>\n      <td>CIN</td>\n      <td>1710</td>\n      <td>26.3</td>\n      <td>57.5</td>\n      <td>2019</td>\n      <td>26.300000</td>\n    </tr>\n    <tr>\n      <th>453</th>\n      <td>Przemyslaw Tyton</td>\n      <td>CIN</td>\n      <td>1350</td>\n      <td>6.7</td>\n      <td>51.6</td>\n      <td>2019</td>\n      <td>6.700000</td>\n    </tr>\n    <tr>\n      <th>454</th>\n      <td>Eloy Room</td>\n      <td>CLB</td>\n      <td>1080</td>\n      <td>41.7</td>\n      <td>70.2</td>\n      <td>2019</td>\n      <td>41.700000</td>\n    </tr>\n  </tbody>\n</table>\n<p>455 rows × 7 columns</p>\n</div>"
     },
     "metadata": {},
     "execution_count": 110
    }
   ],
   "source": [
    "#capomulin_df = clean_merge_df.loc[clean_merge_df['Drug Regimen'] == 'Capomulin']\n",
    "#gk_win_vs_sav_df = AB.loc[gk_cleaning_Min_win(\"Player\")]\n",
    "\n",
    "#avg_vol_df = pd.DataFrame(capomulin_df.groupby('Mouse ID')['Tumor Volume (mm3)'].mean().sort_values()).reset_index().rename(columns={'Tumor Volume (mm3)': 'avg_tumor_vol'})\n",
    "avg_win_df = pd.DataFrame(AB.groupby(\"Player\")[\"Winning %\"].mean().sort_values()).reset_index()\n",
    "avg_save_df = pd.DataFrame(AB.groupby(\"Player\")[\"Save %\"].mean().sort_values()).reset_index()\n",
    "#avg_vol_df = pd.merge(capomulin_df, avg_vol_df, on='Mouse ID')\n",
    "avg_winper_df = pd.merge(gk_cleaning_Min_win, avg_win_df, on=\"Player\")\n",
    "avg_winper_df\n",
    "\n",
    "\n",
    "\n",
    "\n"
   ]
  },
  {
   "cell_type": "code",
   "execution_count": 111,
   "metadata": {},
   "outputs": [
    {
     "output_type": "execute_result",
     "data": {
      "text/plain": [
       "               Player     Save %\n",
       "0      Pat Harrington  40.400000\n",
       "1    Przemyslaw Tyton  51.600000\n",
       "2       John McCarthy  53.700000\n",
       "3      Bryan Meredith  55.600000\n",
       "4        Cody Cropper  57.300000\n",
       "..                ...        ...\n",
       "119        Bill Hamid  74.122222\n",
       "120    Bouna Coundoul  74.225000\n",
       "121        Josh Wicks  75.000000\n",
       "122        Henry Ring  75.300000\n",
       "123      Brad Friedel  75.300000\n",
       "\n",
       "[124 rows x 2 columns]"
      ],
      "text/html": "<div>\n<style scoped>\n    .dataframe tbody tr th:only-of-type {\n        vertical-align: middle;\n    }\n\n    .dataframe tbody tr th {\n        vertical-align: top;\n    }\n\n    .dataframe thead th {\n        text-align: right;\n    }\n</style>\n<table border=\"1\" class=\"dataframe\">\n  <thead>\n    <tr style=\"text-align: right;\">\n      <th></th>\n      <th>Player</th>\n      <th>Save %</th>\n    </tr>\n  </thead>\n  <tbody>\n    <tr>\n      <th>0</th>\n      <td>Pat Harrington</td>\n      <td>40.400000</td>\n    </tr>\n    <tr>\n      <th>1</th>\n      <td>Przemyslaw Tyton</td>\n      <td>51.600000</td>\n    </tr>\n    <tr>\n      <th>2</th>\n      <td>John McCarthy</td>\n      <td>53.700000</td>\n    </tr>\n    <tr>\n      <th>3</th>\n      <td>Bryan Meredith</td>\n      <td>55.600000</td>\n    </tr>\n    <tr>\n      <th>4</th>\n      <td>Cody Cropper</td>\n      <td>57.300000</td>\n    </tr>\n    <tr>\n      <th>...</th>\n      <td>...</td>\n      <td>...</td>\n    </tr>\n    <tr>\n      <th>119</th>\n      <td>Bill Hamid</td>\n      <td>74.122222</td>\n    </tr>\n    <tr>\n      <th>120</th>\n      <td>Bouna Coundoul</td>\n      <td>74.225000</td>\n    </tr>\n    <tr>\n      <th>121</th>\n      <td>Josh Wicks</td>\n      <td>75.000000</td>\n    </tr>\n    <tr>\n      <th>122</th>\n      <td>Henry Ring</td>\n      <td>75.300000</td>\n    </tr>\n    <tr>\n      <th>123</th>\n      <td>Brad Friedel</td>\n      <td>75.300000</td>\n    </tr>\n  </tbody>\n</table>\n<p>124 rows × 2 columns</p>\n</div>"
     },
     "metadata": {},
     "execution_count": 111
    }
   ],
   "source": [
    "avg_win_df = pd.merge(gk_cleaning_Min_win, avg_win_df, on=\"Player\")\n",
    "avg_save_df\n"
   ]
  },
  {
   "cell_type": "code",
   "execution_count": null,
   "metadata": {},
   "outputs": [],
   "source": [
    "avg_win_df = pd.merge(gk_cleaning_Min_win, avg_win_df, on=\"Player\")\n",
    "avg_save_df\n",
    "\n",
    "#final_avg_vol_df = avg_vol_df[['Weight (g)', 'avg_tumor_vol']].drop_duplicates()\n",
    "final_avg_win_df = avg_win_df[[\"Player\", \"Winning %_x\"]].drop_duplicates()\n",
    "#final_avg_vol_df\n",
    "final_avg_win_df\n",
    "\n",
    "#x = final_avg_vol_df['Weight (g)']\n",
    "#y = final_avg_vol_df['avg_tumor_vol']\n",
    "#x = gk_cleaning_Min_win['Winning %_y']\n",
    "#y = gk_cleaning_Min_win['Save %']\n",
    "\n",
    "# Calculate the correlation coefficient between Winning % and Save %\n",
    "#correlation = st.pearsonr(x,y)\n",
    "\n",
    "# Print the answer to above calculation\n",
    "#print(f\"\"\"The correlation between weight and average tumor volume\n",
    "#on the Capomulin regimen is {round(correlation[0],2)}.\"\"\")\n",
    "#print(f\"\"\"The correlation between Winning % and Save %\n",
    "#on the Goal Keeper is {round(correlation[0],2)}.\"\"\")\n",
    "\n",
    "# Calculate linear regression\n",
    "#(slope, intercept, rvalue, pvalue, stderr) = linregress(x, y)\n",
    "#regress_values = x * slope + intercept\n",
    "#line_eq = \"y = \" + str(round(slope,2)) + \"x + \" + str(round(intercept,2))\n",
    "\n",
    "#(slope, intercept, rvalue, pvalue, stderr) = linregress(x, y)\n",
    "#regress_values = x * slope + intercept\n",
    "#line_eq = \"y = \" + str(round(slope,2)) + \"x + \" + str(round(intercept,2))\n",
    "\n",
    "# Plot linear regression on top of scatter plot\n",
    "#plt.scatter(x,y)\n",
    "#plt.plot(x,regress_values,\"r-\")\n",
    "\n",
    "# Annotate linear regression\n",
    "#plt.annotate(line_eq,(20,37),fontsize=15,color=\"red\")\n",
    "\n",
    "# Add labels and title to plot\n",
    "#plt.xlabel(\"Weight (g)\")\n",
    "#plt.ylabel(\"Average Tumor Volume (mm3)\")\n",
    "#plt.title('Average Tumor Volume by Weight')\n",
    "#plt.show()\n",
    "\n",
    "#plt.xlabel(\"Winning %\")\n",
    "#plt.ylabel(\"Save %\")\n",
    "#plt.title('Player_Wins_to_Saves')\n",
    "#plt.show()"
   ]
  },
  {
   "cell_type": "code",
   "execution_count": 108,
   "metadata": {},
   "outputs": [
    {
     "output_type": "error",
     "ename": "NameError",
     "evalue": "name 'clean_merge_df' is not defined",
     "traceback": [
      "\u001b[1;31m---------------------------------------------------------------------------\u001b[0m",
      "\u001b[1;31mNameError\u001b[0m                                 Traceback (most recent call last)",
      "\u001b[1;32m<ipython-input-108-345b21e7f102>\u001b[0m in \u001b[0;36m<module>\u001b[1;34m\u001b[0m\n\u001b[1;32m----> 1\u001b[1;33m \u001b[0mcapomulin_df\u001b[0m \u001b[1;33m=\u001b[0m \u001b[0mclean_merge_df\u001b[0m\u001b[1;33m.\u001b[0m\u001b[0mloc\u001b[0m\u001b[1;33m[\u001b[0m\u001b[0mclean_merge_df\u001b[0m\u001b[1;33m[\u001b[0m\u001b[1;34m'Drug Regimen'\u001b[0m\u001b[1;33m]\u001b[0m \u001b[1;33m==\u001b[0m \u001b[1;34m'Capomulin'\u001b[0m\u001b[1;33m]\u001b[0m\u001b[1;33m\u001b[0m\u001b[1;33m\u001b[0m\u001b[0m\n\u001b[0m\u001b[0;32m      2\u001b[0m \u001b[0mavg_vol_df\u001b[0m \u001b[1;33m=\u001b[0m \u001b[0mpd\u001b[0m\u001b[1;33m.\u001b[0m\u001b[0mDataFrame\u001b[0m\u001b[1;33m(\u001b[0m\u001b[0mcapomulin_df\u001b[0m\u001b[1;33m.\u001b[0m\u001b[0mgroupby\u001b[0m\u001b[1;33m(\u001b[0m\u001b[1;34m'Mouse ID'\u001b[0m\u001b[1;33m)\u001b[0m\u001b[1;33m[\u001b[0m\u001b[1;34m'Tumor Volume (mm3)'\u001b[0m\u001b[1;33m]\u001b[0m\u001b[1;33m.\u001b[0m\u001b[0mmean\u001b[0m\u001b[1;33m(\u001b[0m\u001b[1;33m)\u001b[0m\u001b[1;33m.\u001b[0m\u001b[0msort_values\u001b[0m\u001b[1;33m(\u001b[0m\u001b[1;33m)\u001b[0m\u001b[1;33m)\u001b[0m\u001b[1;33m.\u001b[0m\u001b[0mreset_index\u001b[0m\u001b[1;33m(\u001b[0m\u001b[1;33m)\u001b[0m\u001b[1;33m.\u001b[0m\u001b[0mrename\u001b[0m\u001b[1;33m(\u001b[0m\u001b[0mcolumns\u001b[0m\u001b[1;33m=\u001b[0m\u001b[1;33m{\u001b[0m\u001b[1;34m'Tumor Volume (mm3)'\u001b[0m\u001b[1;33m:\u001b[0m \u001b[1;34m'avg_tumor_vol'\u001b[0m\u001b[1;33m}\u001b[0m\u001b[1;33m)\u001b[0m\u001b[1;33m\u001b[0m\u001b[1;33m\u001b[0m\u001b[0m\n\u001b[0;32m      3\u001b[0m \u001b[0mavg_vol_df\u001b[0m \u001b[1;33m=\u001b[0m \u001b[0mpd\u001b[0m\u001b[1;33m.\u001b[0m\u001b[0mmerge\u001b[0m\u001b[1;33m(\u001b[0m\u001b[0mcapomulin_df\u001b[0m\u001b[1;33m,\u001b[0m \u001b[0mavg_vol_df\u001b[0m\u001b[1;33m,\u001b[0m \u001b[0mon\u001b[0m\u001b[1;33m=\u001b[0m\u001b[1;34m'Mouse ID'\u001b[0m\u001b[1;33m)\u001b[0m\u001b[1;33m\u001b[0m\u001b[1;33m\u001b[0m\u001b[0m\n\u001b[0;32m      4\u001b[0m \u001b[0mfinal_avg_vol_df\u001b[0m \u001b[1;33m=\u001b[0m \u001b[0mavg_vol_df\u001b[0m\u001b[1;33m[\u001b[0m\u001b[1;33m[\u001b[0m\u001b[1;34m'Weight (g)'\u001b[0m\u001b[1;33m,\u001b[0m \u001b[1;34m'avg_tumor_vol'\u001b[0m\u001b[1;33m]\u001b[0m\u001b[1;33m]\u001b[0m\u001b[1;33m.\u001b[0m\u001b[0mdrop_duplicates\u001b[0m\u001b[1;33m(\u001b[0m\u001b[1;33m)\u001b[0m\u001b[1;33m\u001b[0m\u001b[1;33m\u001b[0m\u001b[0m\n\u001b[0;32m      5\u001b[0m \u001b[0mfinal_avg_vol_df\u001b[0m\u001b[1;33m\u001b[0m\u001b[1;33m\u001b[0m\u001b[0m\n",
      "\u001b[1;31mNameError\u001b[0m: name 'clean_merge_df' is not defined"
     ]
    }
   ],
   "source": [
    "capomulin_df = clean_merge_df.loc[clean_merge_df['Drug Regimen'] == 'Capomulin']\n",
    "avg_vol_df = pd.DataFrame(capomulin_df.groupby('Mouse ID')['Tumor Volume (mm3)'].mean().sort_values()).reset_index().rename(columns={'Tumor Volume (mm3)': 'avg_tumor_vol'})\n",
    "avg_vol_df = pd.merge(capomulin_df, avg_vol_df, on='Mouse ID')\n",
    "final_avg_vol_df = avg_vol_df[['Weight (g)', 'avg_tumor_vol']].drop_duplicates()\n",
    "final_avg_vol_df\n",
    "x = final_avg_vol_df['Weight (g)']\n",
    "y = final_avg_vol_df['avg_tumor_vol']\n",
    "\n",
    "# Calculate the correlation coefficient between mouse weight and average tumor volume\n",
    "correlation = st.pearsonr(x,y)\n",
    "\n",
    "# Print the answer to above calculation\n",
    "print(f\"\"\"The correlation between weight and average tumor volume\n",
    "on the Capomulin regimen is {round(correlation[0],2)}.\"\"\")\n",
    "\n",
    "# Calculate linear regression\n",
    "(slope, intercept, rvalue, pvalue, stderr) = linregress(x, y)\n",
    "regress_values = x * slope + intercept\n",
    "line_eq = \"y = \" + str(round(slope,2)) + \"x + \" + str(round(intercept,2))\n",
    "\n",
    "# Plot linear regression on top of scatter plot\n",
    "plt.scatter(x,y)\n",
    "plt.plot(x,regress_values,\"r-\")\n",
    "\n",
    "# Annotate linear regression\n",
    "plt.annotate(line_eq,(20,37),fontsize=15,color=\"red\")\n",
    "\n",
    "# Add labels and title to plot\n",
    "plt.xlabel(\"Weight (g)\")\n",
    "plt.ylabel(\"Average Tumor Volume (mm3)\")\n",
    "plt.title('Average Tumor Volume by Weight')\n",
    "plt.show()"
   ]
  }
 ],
 "metadata": {
  "kernelspec": {
   "name": "python383jvsc74a57bd0189bb7c04ac699d0f7229805dbca46e20116de8063752a14ebbebc3cf3b76970",
   "display_name": "Python 3.8.3 64-bit (conda)"
  },
  "language_info": {
   "codemirror_mode": {
    "name": "ipython",
    "version": 3
   },
   "file_extension": ".py",
   "mimetype": "text/x-python",
   "name": "python",
   "nbconvert_exporter": "python",
   "pygments_lexer": "ipython3",
   "version": "3.8.3"
  }
 },
 "nbformat": 4,
 "nbformat_minor": 4
}