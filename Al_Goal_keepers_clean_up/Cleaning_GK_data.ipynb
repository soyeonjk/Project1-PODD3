#Cleaning GK data

source activate pythondata

import matplotlib.pyplot as plt
import pandas as pd
import scipy.stats as st
from scipy.stats import linregress
from scipy.stats import sem
from collections import Counter
import numpy as np
import os
import csv

